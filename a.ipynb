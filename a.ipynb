{
 "cells": [
  {
   "cell_type": "code",
   "execution_count": 1,
   "metadata": {
    "execution": {
     "iopub.execute_input": "2024-03-11T08:16:12.368097Z",
     "iopub.status.busy": "2024-03-11T08:16:12.368097Z",
     "iopub.status.idle": "2024-03-11T08:16:12.388064Z",
     "shell.execute_reply": "2024-03-11T08:16:12.388064Z"
    }
   },
   "outputs": [
    {
     "name": "stdout",
     "output_type": "stream",
     "text": [
      "                            OLS Regression Results                            \n",
      "==============================================================================\n",
      "Dep. Variable:                      Y   R-squared:                       0.810\n",
      "Model:                            OLS   Adj. R-squared:                  0.747\n",
      "Method:                 Least Squares   F-statistic:                     12.79\n",
      "Date:                Fri, 12 Apr 2024   Prob (F-statistic):             0.0374\n",
      "Time:                        10:55:53   Log-Likelihood:                -4.6757\n",
      "No. Observations:                   5   AIC:                             13.35\n",
      "Df Residuals:                       3   BIC:                             12.57\n",
      "Df Model:                           1                                         \n",
      "Covariance Type:            nonrobust                                         \n",
      "==============================================================================\n",
      "                 coef    std err          t      P>|t|      [0.025      0.975]\n",
      "------------------------------------------------------------------------------\n",
      "X              0.9000      0.252      3.576      0.037       0.099       1.701\n",
      "intercept      1.3000      0.835      1.558      0.217      -1.356       3.956\n",
      "==============================================================================\n",
      "Omnibus:                          nan   Durbin-Watson:                   3.179\n",
      "Prob(Omnibus):                    nan   Jarque-Bera (JB):                0.147\n",
      "Skew:                           0.231   Prob(JB):                        0.929\n",
      "Kurtosis:                       2.298   Cond. No.                         8.37\n",
      "==============================================================================\n",
      "\n",
      "Notes:\n",
      "[1] Standard Errors assume that the covariance matrix of the errors is correctly specified.\n"
     ]
    },
    {
     "name": "stderr",
     "output_type": "stream",
     "text": [
      "c:\\Users\\PC\\miniconda3\\envs\\uii_prj\\lib\\site-packages\\statsmodels\\stats\\stattools.py:74: ValueWarning: omni_normtest is not valid with less than 8 observations; 5 samples were given.\n",
      "  warn(\"omni_normtest is not valid with less than 8 observations; %i \"\n"
     ]
    }
   ],
   "source": [
    "\n",
    "import pandas as pd\n",
    "import statsmodels.api as sm\n",
    "\n",
    "    # Tạo DataFrame từ dữ liệu\n",
    "data = {\n",
    "    'X': [1, 2, 3, 4, 5],\n",
    "    'Y': [2, 3, 5, 4, 6],\n",
    "}\n",
    "df = pd.DataFrame(data)\n",
    "\n",
    "# Thêm cột hằng 1 vào DataFrame để tính intercept trong mô hình\n",
    "df['intercept'] = 1\n",
    "\n",
    "# Phân tích hồi quy tuyến tính\n",
    "model = sm.OLS(df['Y'], df[['X', 'intercept']])\n",
    "results = model.fit()\n",
    "\n",
    "# Tạo bảng thống kê tuyến tính\n",
    "summary = results.summary()\n",
    "print(summary)\n"
   ]
  },
  {
   "cell_type": "code",
   "execution_count": null,
   "metadata": {},
   "outputs": [],
   "source": []
  }
 ],
 "metadata": {
  "kernelspec": {
   "display_name": "uii_prj",
   "language": "python",
   "name": "python3"
  },
  "language_info": {
   "codemirror_mode": {
    "name": "ipython",
    "version": 3
   },
   "file_extension": ".py",
   "mimetype": "text/x-python",
   "name": "python",
   "nbconvert_exporter": "python",
   "pygments_lexer": "ipython3",
   "version": "3.8.18"
  }
 },
 "nbformat": 4,
 "nbformat_minor": 2
}
