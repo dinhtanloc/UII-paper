{
 "cells": [
  {
   "cell_type": "code",
   "execution_count": 1,
   "metadata": {
    "execution": {
     "iopub.execute_input": "2024-03-12T12:44:53.392287Z",
     "iopub.status.busy": "2024-03-12T12:44:53.392287Z",
     "iopub.status.idle": "2024-03-12T12:44:53.406368Z",
     "shell.execute_reply": "2024-03-12T12:44:53.406368Z"
    }
   },
   "outputs": [
    {
     "name": "stdout",
     "output_type": "stream",
     "text": [
      "Hello world\n"
     ]
    }
   ],
   "source": [
    "print('Hello world')"
   ]
  },
  {
   "cell_type": "code",
   "execution_count": 2,
   "metadata": {
    "execution": {
     "iopub.execute_input": "2024-03-12T12:44:53.434068Z",
     "iopub.status.busy": "2024-03-12T12:44:53.434068Z",
     "iopub.status.idle": "2024-03-12T12:44:53.448011Z",
     "shell.execute_reply": "2024-03-12T12:44:53.448011Z"
    }
   },
   "outputs": [
    {
     "name": "stdout",
     "output_type": "stream",
     "text": [
      "Dinh Tan Loc\n"
     ]
    }
   ],
   "source": [
    "from a import *\n",
    "print(name)"
   ]
  }
 ],
 "metadata": {
  "kernelspec": {
   "display_name": "Python 3 (ipykernel)",
   "language": "python",
   "name": "python3"
  },
  "language_info": {
   "codemirror_mode": {
    "name": "ipython",
    "version": 3
   },
   "file_extension": ".py",
   "mimetype": "text/x-python",
   "name": "python",
   "nbconvert_exporter": "python",
   "pygments_lexer": "ipython3",
   "version": "3.8.18"
  }
 },
 "nbformat": 4,
 "nbformat_minor": 4
}
